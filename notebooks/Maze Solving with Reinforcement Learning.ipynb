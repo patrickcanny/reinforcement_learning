{
 "cells": [
  {
   "cell_type": "code",
   "execution_count": 1,
   "metadata": {},
   "outputs": [
    {
     "name": "stderr",
     "output_type": "stream",
     "text": [
      "Using TensorFlow backend.\n"
     ]
    }
   ],
   "source": [
    "import sys\n",
    "sys.path.insert(0, '../')\n",
    "\n",
    "import maze_solver as ms"
   ]
  },
  {
   "cell_type": "code",
   "execution_count": 2,
   "metadata": {},
   "outputs": [
    {
     "name": "stdout",
     "output_type": "stream",
     "text": [
      "WARNING:tensorflow:From /Library/Frameworks/Python.framework/Versions/3.6/lib/python3.6/site-packages/tensorflow/python/framework/op_def_library.py:263: colocate_with (from tensorflow.python.framework.ops) is deprecated and will be removed in a future version.\n",
      "Instructions for updating:\n",
      "Colocations handled automatically by placer.\n",
      "WARNING:tensorflow:From /Library/Frameworks/Python.framework/Versions/3.6/lib/python3.6/site-packages/tensorflow/python/ops/math_ops.py:3066: to_int32 (from tensorflow.python.ops.math_ops) is deprecated and will be removed in a future version.\n",
      "Instructions for updating:\n",
      "Use tf.cast instead.\n"
     ]
    },
    {
     "name": "stderr",
     "output_type": "stream",
     "text": [
      "/Library/Frameworks/Python.framework/Versions/3.6/lib/python3.6/site-packages/matplotlib/cbook/__init__.py:424: MatplotlibDeprecationWarning: \n",
      "Passing one of 'on', 'true', 'off', 'false' as a boolean is deprecated; use an actual boolean (True/False) instead.\n",
      "  warn_deprecated(\"2.2\", \"Passing one of 'on', 'true', 'off', 'false' as a \"\n"
     ]
    },
    {
     "name": "stdout",
     "output_type": "stream",
     "text": [
      "Epoch: 000/14999 | Loss: 0.0273 | Episodes: 23 | Win count: 1 | Win rate: 0.000 | time: 1.0 seconds\n",
      "Epoch: 001/14999 | Loss: 0.0471 | Episodes: 1 | Win count: 2 | Win rate: 0.000 | time: 1.0 seconds\n",
      "Epoch: 002/14999 | Loss: 0.0525 | Episodes: 2 | Win count: 3 | Win rate: 0.000 | time: 1.1 seconds\n",
      "Epoch: 003/14999 | Loss: 0.0065 | Episodes: 19 | Win count: 4 | Win rate: 0.000 | time: 1.8 seconds\n",
      "Epoch: 004/14999 | Loss: 0.0079 | Episodes: 3 | Win count: 5 | Win rate: 0.000 | time: 1.9 seconds\n",
      "Epoch: 005/14999 | Loss: 0.0011 | Episodes: 14 | Win count: 6 | Win rate: 0.000 | time: 2.4 seconds\n",
      "Epoch: 006/14999 | Loss: 0.0020 | Episodes: 4 | Win count: 7 | Win rate: 0.000 | time: 2.5 seconds\n",
      "Epoch: 007/14999 | Loss: 0.0022 | Episodes: 107 | Win count: 7 | Win rate: 0.000 | time: 6.5 seconds\n",
      "Epoch: 008/14999 | Loss: 0.0019 | Episodes: 104 | Win count: 7 | Win rate: 0.000 | time: 10.2 seconds\n",
      "Epoch: 009/14999 | Loss: 0.0044 | Episodes: 4 | Win count: 8 | Win rate: 0.000 | time: 10.3 seconds\n",
      "Epoch: 010/14999 | Loss: 0.0012 | Episodes: 61 | Win count: 9 | Win rate: 0.000 | time: 12.4 seconds\n",
      "Epoch: 011/14999 | Loss: 0.0030 | Episodes: 12 | Win count: 10 | Win rate: 0.000 | time: 12.8 seconds\n",
      "Epoch: 012/14999 | Loss: 0.0043 | Episodes: 41 | Win count: 11 | Win rate: 0.000 | time: 14.5 seconds\n",
      "Epoch: 013/14999 | Loss: 0.0009 | Episodes: 4 | Win count: 12 | Win rate: 0.000 | time: 14.6 seconds\n",
      "Epoch: 014/14999 | Loss: 0.0149 | Episodes: 101 | Win count: 12 | Win rate: 0.000 | time: 18.2 seconds\n",
      "Epoch: 015/14999 | Loss: 0.0028 | Episodes: 29 | Win count: 13 | Win rate: 0.000 | time: 19.2 seconds\n",
      "Epoch: 016/14999 | Loss: 0.0010 | Episodes: 12 | Win count: 14 | Win rate: 0.000 | time: 19.7 seconds\n",
      "Epoch: 017/14999 | Loss: 0.0045 | Episodes: 15 | Win count: 15 | Win rate: 0.000 | time: 20.2 seconds\n",
      "Epoch: 018/14999 | Loss: 0.0063 | Episodes: 25 | Win count: 16 | Win rate: 0.000 | time: 21.1 seconds\n",
      "Epoch: 019/14999 | Loss: 0.0041 | Episodes: 19 | Win count: 17 | Win rate: 0.000 | time: 21.8 seconds\n",
      "Epoch: 020/14999 | Loss: 0.0008 | Episodes: 17 | Win count: 18 | Win rate: 0.000 | time: 22.5 seconds\n",
      "Epoch: 021/14999 | Loss: 0.0201 | Episodes: 6 | Win count: 19 | Win rate: 0.000 | time: 22.7 seconds\n",
      "Epoch: 022/14999 | Loss: 0.0021 | Episodes: 3 | Win count: 20 | Win rate: 0.000 | time: 22.8 seconds\n",
      "Epoch: 023/14999 | Loss: 0.0015 | Episodes: 2 | Win count: 21 | Win rate: 0.000 | time: 22.9 seconds\n",
      "Epoch: 024/14999 | Loss: 0.0021 | Episodes: 70 | Win count: 22 | Win rate: 0.875 | time: 25.3 seconds\n",
      "Epoch: 025/14999 | Loss: 0.0005 | Episodes: 4 | Win count: 23 | Win rate: 0.875 | time: 25.5 seconds\n",
      "Epoch: 026/14999 | Loss: 0.0008 | Episodes: 25 | Win count: 24 | Win rate: 0.875 | time: 26.3 seconds\n",
      "Epoch: 027/14999 | Loss: 0.0023 | Episodes: 17 | Win count: 25 | Win rate: 0.875 | time: 26.9 seconds\n",
      "Epoch: 028/14999 | Loss: 0.0020 | Episodes: 29 | Win count: 26 | Win rate: 0.875 | time: 27.9 seconds\n",
      "Epoch: 029/14999 | Loss: 0.0007 | Episodes: 24 | Win count: 27 | Win rate: 0.875 | time: 28.7 seconds\n",
      "Epoch: 030/14999 | Loss: 0.0017 | Episodes: 29 | Win count: 28 | Win rate: 0.875 | time: 29.7 seconds\n",
      "Epoch: 031/14999 | Loss: 0.0004 | Episodes: 11 | Win count: 29 | Win rate: 0.917 | time: 30.1 seconds\n",
      "Epoch: 032/14999 | Loss: 0.0008 | Episodes: 5 | Win count: 30 | Win rate: 0.958 | time: 30.3 seconds\n",
      "Epoch: 033/14999 | Loss: 0.0010 | Episodes: 1 | Win count: 31 | Win rate: 0.958 | time: 30.3 seconds\n",
      "Epoch: 034/14999 | Loss: 0.0008 | Episodes: 3 | Win count: 32 | Win rate: 0.958 | time: 30.4 seconds\n",
      "Epoch: 035/14999 | Loss: 0.0008 | Episodes: 19 | Win count: 33 | Win rate: 0.958 | time: 31.0 seconds\n",
      "Epoch: 036/14999 | Loss: 0.0009 | Episodes: 26 | Win count: 34 | Win rate: 0.958 | time: 31.9 seconds\n",
      "Epoch: 037/14999 | Loss: 0.0006 | Episodes: 16 | Win count: 35 | Win rate: 0.958 | time: 32.5 seconds\n",
      "Epoch: 038/14999 | Loss: 0.0029 | Episodes: 42 | Win count: 36 | Win rate: 1.000 | time: 33.9 seconds\n",
      "Reached 100% win rate at epoch: 38\n",
      "files: model.h5, model.json\n",
      "n_epoch: 38, max_mem: 392, data: 32, time: 34.0 seconds\n"
     ]
    },
    {
     "data": {
      "image/png": "[encoded data removed]",
      "text/plain": [
       "<Figure size 432x288 with 1 Axes>"
      ]
     },
     "metadata": {
      "needs_background": "light"
     },
     "output_type": "display_data"
    }
   ],
   "source": [
    "ms.solve()"
   ]
  }
 ],
 "metadata": {
  "kernelspec": {
   "display_name": "Python 3",
   "language": "python",
   "name": "python3"
  },
  "language_info": {
   "codemirror_mode": {
    "name": "ipython",
    "version": 3
   },
   "file_extension": ".py",
   "mimetype": "text/x-python",
   "name": "python",
   "nbconvert_exporter": "python",
   "pygments_lexer": "ipython3",
   "version": "3.6.8"
  }
 },
 "nbformat": 4,
 "nbformat_minor": 2
}
